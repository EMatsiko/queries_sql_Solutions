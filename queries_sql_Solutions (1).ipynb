{
 "cells": [
  {
   "cell_type": "markdown",
   "metadata": {},
   "source": [
    "### TODO: import  this library to make connection to  postgres database"
   ]
  },
  {
   "cell_type": "code",
   "execution_count": 5,
   "metadata": {},
   "outputs": [],
   "source": [
    "import psycopg2\n",
    "\n",
    "#!pip install psycopg2-binary\n",
    "# run !pip install pyscopg2 #if your environment does not have this library"
   ]
  },
  {
   "cell_type": "markdown",
   "metadata": {},
   "source": [
    "### TODO: Create a connection to the `rocket spark` database, get a cursor, and set autocommit to true"
   ]
  },
  {
   "cell_type": "code",
   "execution_count": 19,
   "metadata": {},
   "outputs": [],
   "source": [
    "try: \n",
    "    conn = psycopg2.connect(\"host=54.175.254.25 dbname=rocket_spark user=data_analyst password=secret\")\n",
    "except psycopg2.Error as e: \n",
    "    print(\"Error: Could not make connection to the Postgres database\")\n",
    "    print(e)\n",
    "try: \n",
    "    cur = conn.cursor()\n",
    "except psycopg2.Error as e: \n",
    "    print(\"Error: Could not get cursor to the Database\")\n",
    "    print(e)\n",
    "conn.set_session(autocommit=True)"
   ]
  },
  {
   "cell_type": "markdown",
   "metadata": {},
   "source": [
    "### TODO : Run the cells below to confirm  if all tables exist and how many rows are available for each table"
   ]
  },
  {
   "cell_type": "code",
   "execution_count": 20,
   "metadata": {},
   "outputs": [
    {
     "name": "stdout",
     "output_type": "stream",
     "text": [
      "\n",
      "Table: songs\n",
      "\n",
      "(71,)\n"
     ]
    }
   ],
   "source": [
    "print(\"\\nTable: songs\\n\")\n",
    "try: \n",
    "    cur.execute(\"SELECT count(*) FROM songs;\")\n",
    "except psycopg2.Error as e: \n",
    "    print (e)\n",
    "\n",
    "row = cur.fetchone()\n",
    "while row:\n",
    "   print(row)\n",
    "   row = cur.fetchone()"
   ]
  },
  {
   "cell_type": "code",
   "execution_count": 21,
   "metadata": {
    "pycharm": {
     "name": "#%%\n"
    }
   },
   "outputs": [
    {
     "name": "stdout",
     "output_type": "stream",
     "text": [
      "\n",
      "Table: songsplays\n",
      "\n",
      "(1368,)\n"
     ]
    }
   ],
   "source": [
    "print(\"\\nTable: songsplays\\n\")\n",
    "try: \n",
    "    cur.execute(\"SELECT count(*) FROM songplays;\")\n",
    "except psycopg2.Error as e: \n",
    "    print(\"Error: select *\")\n",
    "    print (e)\n",
    "\n",
    "row = cur.fetchone()\n",
    "while row:\n",
    "   print(row)\n",
    "   row = cur.fetchone()"
   ]
  },
  {
   "cell_type": "code",
   "execution_count": 22,
   "metadata": {
    "pycharm": {
     "name": "#%%\n"
    }
   },
   "outputs": [
    {
     "name": "stdout",
     "output_type": "stream",
     "text": [
      "\n",
      ":Table artists\n",
      "\n",
      "(69,)\n"
     ]
    }
   ],
   "source": [
    "print(\"\\n:Table artists\\n\")\n",
    "try: \n",
    "    cur.execute(\"SELECT count(*) FROM artists;\")\n",
    "except psycopg2.Error as e: \n",
    "    print(\"Error: select *\")\n",
    "    print (e)\n",
    "\n",
    "row = cur.fetchone()\n",
    "while row:\n",
    "   print(row)\n",
    "   row = cur.fetchone()"
   ]
  },
  {
   "cell_type": "code",
   "execution_count": 23,
   "metadata": {
    "pycharm": {
     "name": "#%%\n"
    }
   },
   "outputs": [
    {
     "name": "stdout",
     "output_type": "stream",
     "text": [
      "\n",
      "Table: users\n",
      "\n",
      "(90,)\n"
     ]
    }
   ],
   "source": [
    "print(\"\\nTable: users\\n\")\n",
    "try: \n",
    "    cur.execute(\"SELECT count(*) FROM users;\")\n",
    "except psycopg2.Error as e: \n",
    "    print(\"Error: select *\")\n",
    "    print (e)\n",
    "\n",
    "row = cur.fetchone()\n",
    "while row:\n",
    "   print(row)\n",
    "   row = cur.fetchone()"
   ]
  },
  {
   "cell_type": "code",
   "execution_count": 24,
   "metadata": {
    "pycharm": {
     "name": "#%%\n"
    }
   },
   "outputs": [
    {
     "name": "stdout",
     "output_type": "stream",
     "text": [
      "\n",
      "Table: time\n",
      "\n"
     ]
    }
   ],
   "source": [
    "print(\"\\nTable: time\\n\")\n",
    "try: \n",
    "    cur.execute(\"SELECT count(*) FROM time;\")\n",
    "except psycopg2.Error as e: \n",
    "    print(\"Error: select *\")\n",
    "    print (e)"
   ]
  },
  {
   "cell_type": "code",
   "execution_count": 25,
   "metadata": {
    "pycharm": {
     "name": "#%%\n"
    }
   },
   "outputs": [
    {
     "name": "stdout",
     "output_type": "stream",
     "text": [
      "(4978,)\n"
     ]
    }
   ],
   "source": [
    "row = cur.fetchone()\n",
    "while row:\n",
    "   print(row)\n",
    "   row = cur.fetchone()    "
   ]
  },
  {
   "cell_type": "markdown",
   "metadata": {},
   "source": [
    "> #### Question 1: Find all `users` (first_name, last_name, gender and level) (song title) who have listened to the song  `Face the Ashes` in year 2018"
   ]
  },
  {
   "cell_type": "code",
   "execution_count": 60,
   "metadata": {},
   "outputs": [
    {
     "ename": "SyntaxError",
     "evalue": "syntax error at or near \"WHERE\"\nLINE 9:                 WHERE songs.title = 'Face the Ashes' \n                        ^\n",
     "output_type": "error",
     "traceback": [
      "\u001b[1;31m---------------------------------------------------------------------------\u001b[0m",
      "\u001b[1;31mSyntaxError\u001b[0m                               Traceback (most recent call last)",
      "\u001b[1;32m<ipython-input-60-dd8b0b201322>\u001b[0m in \u001b[0;36m<module>\u001b[1;34m\u001b[0m\n\u001b[1;32m----> 1\u001b[1;33m cur.execute(\"\"\"SELECT users.first_name, \n\u001b[0m\u001b[0;32m      2\u001b[0m                 \u001b[0musers\u001b[0m\u001b[1;33m.\u001b[0m\u001b[0mlast_name\u001b[0m\u001b[1;33m,\u001b[0m\u001b[1;33m\u001b[0m\u001b[1;33m\u001b[0m\u001b[0m\n\u001b[0;32m      3\u001b[0m                 \u001b[0musers\u001b[0m\u001b[1;33m.\u001b[0m\u001b[0mgender\u001b[0m\u001b[1;33m,\u001b[0m\u001b[1;33m\u001b[0m\u001b[1;33m\u001b[0m\u001b[0m\n\u001b[0;32m      4\u001b[0m                 \u001b[0musers\u001b[0m\u001b[1;33m.\u001b[0m\u001b[0mlevel\u001b[0m\u001b[1;33m,\u001b[0m\u001b[1;33m\u001b[0m\u001b[1;33m\u001b[0m\u001b[0m\n\u001b[0;32m      5\u001b[0m                 \u001b[0msongs\u001b[0m\u001b[1;33m.\u001b[0m\u001b[0mtitle\u001b[0m\u001b[1;33m\u001b[0m\u001b[1;33m\u001b[0m\u001b[0m\n",
      "\u001b[1;31mSyntaxError\u001b[0m: syntax error at or near \"WHERE\"\nLINE 9:                 WHERE songs.title = 'Face the Ashes' \n                        ^\n"
     ]
    }
   ],
   "source": [
    "cur.execute(\"\"\"SELECT users.first_name, \n",
    "                users.last_name, \n",
    "                users.gender, \n",
    "                users.level, \n",
    "                songs.title \n",
    "                FROM users JOIN songplays JOIN songs\n",
    "                ON users.user_id = songs.user_id \n",
    "                AND songs.song_id = songplays.song_id\n",
    "                WHERE songs.title = 'Face the Ashes' \n",
    "                AND songs.year = 2018; \"\"\")\n"
   ]
  },
  {
   "cell_type": "markdown",
   "metadata": {},
   "source": [
    "> #### Question 2:  Provide  top 100 most played songs  `songplays` (song title , location, artist name, duration, (column count for how many times it was played )"
   ]
  },
  {
   "cell_type": "code",
   "execution_count": 55,
   "metadata": {},
   "outputs": [
    {
     "ename": "SyntaxError",
     "evalue": "syntax error at or near \"ORDER\"\nLINE 5:                 ORDER BY Times_played DESC\n                        ^\n",
     "output_type": "error",
     "traceback": [
      "\u001b[1;31m---------------------------------------------------------------------------\u001b[0m",
      "\u001b[1;31mSyntaxError\u001b[0m                               Traceback (most recent call last)",
      "\u001b[1;32m<ipython-input-55-e6cc2a224c07>\u001b[0m in \u001b[0;36m<module>\u001b[1;34m\u001b[0m\n\u001b[1;32m----> 1\u001b[1;33m cur.execute(\"\"\"SELECT songs.title, songplays.location, artists.name, songs.duration, count(songplays.song_play_id) AS Times_played\n\u001b[0m\u001b[0;32m      2\u001b[0m                 \u001b[0mFROM\u001b[0m \u001b[0msongplays\u001b[0m \u001b[0mJOIN\u001b[0m \u001b[0msongs\u001b[0m \u001b[0mJOIN\u001b[0m \u001b[0martists\u001b[0m\u001b[1;33m\u001b[0m\u001b[1;33m\u001b[0m\u001b[0m\n\u001b[0;32m      3\u001b[0m                 \u001b[0mON\u001b[0m \u001b[0msongs\u001b[0m\u001b[1;33m.\u001b[0m\u001b[0msong_id\u001b[0m \u001b[1;33m=\u001b[0m \u001b[0msongplays\u001b[0m\u001b[1;33m.\u001b[0m\u001b[0msong_id\u001b[0m\u001b[1;33m\u001b[0m\u001b[1;33m\u001b[0m\u001b[0m\n\u001b[0;32m      4\u001b[0m                 \u001b[0mAND\u001b[0m \u001b[0msongs\u001b[0m\u001b[1;33m.\u001b[0m\u001b[0martist_id\u001b[0m \u001b[1;33m=\u001b[0m \u001b[0martists\u001b[0m\u001b[1;33m.\u001b[0m\u001b[0martist_id\u001b[0m\u001b[1;33m\u001b[0m\u001b[1;33m\u001b[0m\u001b[0m\n\u001b[0;32m      5\u001b[0m                 \u001b[0mORDER\u001b[0m \u001b[0mBY\u001b[0m \u001b[0mTimes_played\u001b[0m \u001b[0mDESC\u001b[0m\u001b[1;33m\u001b[0m\u001b[1;33m\u001b[0m\u001b[0m\n",
      "\u001b[1;31mSyntaxError\u001b[0m: syntax error at or near \"ORDER\"\nLINE 5:                 ORDER BY Times_played DESC\n                        ^\n"
     ]
    }
   ],
   "source": [
    "cur.execute(\"\"\"SELECT songs.title, songplays.location, artists.name, songs.duration, count(songplays.song_play_id) AS Times_played\n",
    "                FROM songplays JOIN songs JOIN artists\n",
    "                ON songs.song_id = songplays.song_id \n",
    "                AND songs.artist_id = artists.artist_id  \n",
    "                ORDER BY Times_played DESC\n",
    "                LIMIT 100;\"\"\")"
   ]
  },
  {
   "cell_type": "markdown",
   "metadata": {},
   "source": [
    "> #### Question 3: By explorative data analysis find if there are gainful insights between `location` and `artists` and `song`  played"
   ]
  },
  {
   "cell_type": "code",
   "execution_count": 72,
   "metadata": {},
   "outputs": [
    {
     "ename": "SyntaxError",
     "evalue": "unterminated quoted identifier at or near \"\"SELECT artists.location, artists.name, songs.title\n                FROM songs JOIN artists\n                ON artists.artist_id = songs.artist_id;\"\nLINE 1: \"SELECT artists.location, artists.name, songs.title\n        ^\n",
     "output_type": "error",
     "traceback": [
      "\u001b[1;31m---------------------------------------------------------------------------\u001b[0m",
      "\u001b[1;31mSyntaxError\u001b[0m                               Traceback (most recent call last)",
      "\u001b[1;32m<ipython-input-72-757d38669a43>\u001b[0m in \u001b[0;36m<module>\u001b[1;34m\u001b[0m\n\u001b[1;32m----> 1\u001b[1;33m cur.execute (\"\"\"\"SELECT artists.location, artists.name, songs.title\n\u001b[0m\u001b[0;32m      2\u001b[0m                 \u001b[0mFROM\u001b[0m \u001b[0msongs\u001b[0m \u001b[0mJOIN\u001b[0m \u001b[0martists\u001b[0m\u001b[1;33m\u001b[0m\u001b[1;33m\u001b[0m\u001b[0m\n\u001b[0;32m      3\u001b[0m                 ON artists.artist_id = songs.artist_id;\"\"\")\n",
      "\u001b[1;31mSyntaxError\u001b[0m: unterminated quoted identifier at or near \"\"SELECT artists.location, artists.name, songs.title\n                FROM songs JOIN artists\n                ON artists.artist_id = songs.artist_id;\"\nLINE 1: \"SELECT artists.location, artists.name, songs.title\n        ^\n"
     ]
    }
   ],
   "source": [
    "data = cur.execute (\"\"\"\"SELECT artists.location, artists.name, songs.title, count(songs.title) AS song_titles, \n",
    "                count(artists.name) AS names\n",
    "                FROM songs JOIN artists\n",
    "                ON artists.artist_id = songs.artist_id\n",
    "                GROUP BY artists.location;\"\"\")\n",
    "\n",
    "\n",
    "data_df = pd.read_sql(data, con)\n",
    "#bar plot showing song titles per location\n",
    "data_df.plot.bar(x=artists.location, y=song_titles)\n",
    "\n",
    "#bar plot showing count of artist names per location\n",
    "data_df.plot.bar(x=artists.location, y=names)"
   ]
  },
  {
   "cell_type": "markdown",
   "metadata": {},
   "source": [
    "> #### Question 4: Using the `song_plays` table, write an SQL query to find the record which is the fourth most listened song."
   ]
  },
  {
   "cell_type": "code",
   "execution_count": 59,
   "metadata": {},
   "outputs": [],
   "source": [
    "cur.execute(\"\"\"SELECT songs.title, count(songplays.song_play_id) AS Times_played\n",
    "                FROM songplays JOIN songs\n",
    "                ON songs.song_id = songplays.song_id\n",
    "                GROUP BY songs.title\n",
    "                ORDER BY Times_played DESC\n",
    "                LIMIT 4;\"\"\")"
   ]
  },
  {
   "cell_type": "markdown",
   "metadata": {},
   "source": [
    "> #### Question 5: Based on your analysis derive to what extent is there correlation between `songplays` and `users`level(free , paid )"
   ]
  },
  {
   "cell_type": "code",
   "execution_count": 62,
   "metadata": {},
   "outputs": [
    {
     "ename": "SyntaxError",
     "evalue": "syntax error at or near \".\"\nLINE 3:                 corr(songplays.level, users.level);\n                                      ^\n",
     "output_type": "error",
     "traceback": [
      "\u001b[1;31m---------------------------------------------------------------------------\u001b[0m",
      "\u001b[1;31mSyntaxError\u001b[0m                               Traceback (most recent call last)",
      "\u001b[1;32m<ipython-input-62-d5b99de403ed>\u001b[0m in \u001b[0;36m<module>\u001b[1;34m\u001b[0m\n\u001b[1;32m----> 1\u001b[1;33m cur.execute(\"\"\"SELECT songplays.level, users.level\n\u001b[0m\u001b[0;32m      2\u001b[0m                 \u001b[0mFROM\u001b[0m \u001b[0msongplays\u001b[0m\u001b[1;33m,\u001b[0m \u001b[0musers\u001b[0m\u001b[1;33m\u001b[0m\u001b[1;33m\u001b[0m\u001b[0m\n\u001b[0;32m      3\u001b[0m                 corr(songplays.level, users.level);\"\"\")\n",
      "\u001b[1;31mSyntaxError\u001b[0m: syntax error at or near \".\"\nLINE 3:                 corr(songplays.level, users.level);\n                                      ^\n"
     ]
    }
   ],
   "source": [
    "cur.execute(\"\"\"SELECT songplays.level, users.level\n",
    "                FROM songplays, users\n",
    "                corr(songplays.level, users.level);\"\"\")"
   ]
  },
  {
   "cell_type": "markdown",
   "metadata": {},
   "source": [
    "### Close Connection \n"
   ]
  },
  {
   "cell_type": "code",
   "execution_count": 73,
   "metadata": {},
   "outputs": [],
   "source": [
    "cur.close()\n",
    "conn.close()"
   ]
  }
 ],
 "metadata": {
  "kernelspec": {
   "display_name": "Python 3",
   "language": "python",
   "name": "python3"
  },
  "language_info": {
   "codemirror_mode": {
    "name": "ipython",
    "version": 3
   },
   "file_extension": ".py",
   "mimetype": "text/x-python",
   "name": "python",
   "nbconvert_exporter": "python",
   "pygments_lexer": "ipython3",
   "version": "3.8.8"
  }
 },
 "nbformat": 4,
 "nbformat_minor": 2
}
